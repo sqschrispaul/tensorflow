{
 "cells": [
  {
   "cell_type": "code",
   "execution_count": 33,
   "metadata": {
    "collapsed": true,
    "pycharm": {
     "is_executing": false
    }
   },
   "outputs": [],
   "source": [
    "import tensorflow as tf\n",
    "import numpy as np\n",
    "import matplotlib.pyplot as plt"
   ]
  },
  {
   "cell_type": "code",
   "execution_count": 68,
   "outputs": [],
   "source": [
    "num_example = 200\n",
    "true_w = 2\n",
    "true_b = 3\n",
    "learning_rate = 0.01\n",
    "display_step = 50"
   ],
   "metadata": {
    "collapsed": false,
    "pycharm": {
     "name": "#%%\n",
     "is_executing": false
    }
   }
  },
  {
   "cell_type": "code",
   "execution_count": 69,
   "outputs": [],
   "source": [
    "# 设置加噪音的数据\n",
    "x_train = np.random.rand(num_example)\n",
    "# print(x)\n",
    "noise = np.random.rand(num_example)\n",
    "output = x_train * true_w + true_b + noise"
   ],
   "metadata": {
    "collapsed": false,
    "pycharm": {
     "name": "#%%\n",
     "is_executing": false
    }
   }
  },
  {
   "cell_type": "code",
   "execution_count": 70,
   "outputs": [],
   "source": [
    "w_pre = tf.Variable(np.random.randn())\n",
    "b_pre = tf.Variable(np.random.randn())\n",
    "x = tf.placeholder(dtype=float,shape=[num_example])\n",
    "y = tf.placeholder(dtype=float,shape=[num_example])"
   ],
   "metadata": {
    "collapsed": false,
    "pycharm": {
     "name": "#%%\n",
     "is_executing": false
    }
   }
  },
  {
   "cell_type": "code",
   "execution_count": 71,
   "outputs": [],
   "source": [
    "y_pre = tf.add(tf.multiply(x, w_pre), b_pre)\n",
    "cost = tf.reduce_mean(tf.square(output-y_pre))\n",
    "optimizer = tf.train.GradientDescentOptimizer(learning_rate).minimize(cost)\n",
    "init = tf.global_variables_initializer()"
   ],
   "metadata": {
    "collapsed": false,
    "pycharm": {
     "name": "#%%\n",
     "is_executing": false
    }
   }
  },
  {
   "cell_type": "code",
   "execution_count": 74,
   "outputs": [
    {
     "name": "stdout",
     "text": [
      "第0训练的loss：26.01, w:-1.75, b:0.26\n第50训练的loss：2.39, w:-0.18, b:3.11\n第100训练的loss：0.43, w:0.34, b:3.89\n第150训练的loss：0.25, w:0.55, b:4.08\n第200训练的loss：0.22, w:0.67, b:4.11\n第250训练的loss：0.20, w:0.77, b:4.08\n第300训练的loss：0.19, w:0.85, b:4.05\n第350训练的loss：0.18, w:0.92, b:4.01\n第400训练的loss：0.16, w:0.99, b:3.98",
      "\n第450训练的loss：0.15, w:1.05, b:3.95\n第500训练的loss：0.14, w:1.11, b:3.92\n第550训练的loss：0.14, w:1.17, b:3.89\n第600训练的loss：0.13, w:1.22, b:3.86\n第650训练的loss：0.12, w:1.27, b:3.84\n第700训练的loss：0.12, w:1.32, b:3.81\n第750训练的loss：0.11, w:1.37, b:3.79\n第800训练的loss：0.11, w:1.41, b:3.77\n第850训练的loss：0.10, w:1.45, b:3.75\n",
      "第900训练的loss：0.10, w:1.48, b:3.73\n第950训练的loss：0.10, w:1.52, b:3.72\n第1000训练的loss：0.10, w:1.55, b:3.70\n第1050训练的loss：0.09, w:1.58, b:3.68\n第1100训练的loss：0.09, w:1.61, b:3.67\n第1150训练的loss：0.09, w:1.63, b:3.66\n第1200训练的loss：0.09, w:1.66, b:3.64\n第1250训练的loss：0.09, w:1.68, b:3.63\n第1300训练的loss：0.09, w:1.70, b:3.62\n第1350训练的loss：0.08, w:1.72, b:3.61",
      "\n第1400训练的loss：0.08, w:1.74, b:3.60\n第1450训练的loss：0.08, w:1.76, b:3.59\n第1500训练的loss：0.08, w:1.78, b:3.58\n第1550训练的loss：0.08, w:1.79, b:3.58\n第1600训练的loss：0.08, w:1.81, b:3.57\n第1650训练的loss：0.08, w:1.82, b:3.56\n第1700训练的loss：0.08, w:1.84, b:3.55\n第1750训练的loss：0.08, w:1.85, b:3.55\n第1800训练的loss：0.08, w:1.86, b:3.54",
      "\n第1850训练的loss：0.08, w:1.87, b:3.54\n第1900训练的loss：0.08, w:1.88, b:3.53\n第1950训练的loss：0.08, w:1.89, b:3.53\n第2000训练的loss：0.08, w:1.90, b:3.52\n第2050训练的loss：0.08, w:1.91, b:3.52\n第2100训练的loss：0.08, w:1.92, b:3.51\n第2150训练的loss：0.08, w:1.92, b:3.51\n第2200训练的loss：0.08, w:1.93, b:3.51",
      "\n第2250训练的loss：0.08, w:1.94, b:3.50\n第2300训练的loss：0.08, w:1.94, b:3.50\n第2350训练的loss：0.08, w:1.95, b:3.50\n第2400训练的loss：0.08, w:1.95, b:3.49\n第2450训练的loss：0.08, w:1.96, b:3.49\n第2500训练的loss：0.08, w:1.96, b:3.49\n第2550训练的loss：0.08, w:1.97, b:3.49\n第2600训练的loss：0.08, w:1.97, b:3.49\n第2650训练的loss：0.08, w:1.98, b:3.48",
      "\n第2700训练的loss：0.08, w:1.98, b:3.48\n第2750训练的loss：0.08, w:1.98, b:3.48\n第2800训练的loss：0.08, w:1.99, b:3.48\n第2850训练的loss：0.08, w:1.99, b:3.48\n第2900训练的loss：0.08, w:1.99, b:3.48\n第2950训练的loss：0.08, w:2.00, b:3.47\ntrain finished\nfinal loss:0.08 w_pre:2.00 b_pre: 3\ntrue w:2, true b:3\n"
     ],
     "output_type": "stream"
    },
    {
     "data": {
      "text/plain": "<Figure size 432x288 with 1 Axes>",
      "image/png": "[encoded data removed]"
     },
     "metadata": {
      "needs_background": "light"
     },
     "output_type": "display_data"
    }
   ],
   "source": [
    "with tf.Session() as sess:\n",
    "    sess.run(init)\n",
    "    for epoch in range(3000):\n",
    "        sess.run(optimizer, feed_dict={x:x_train, y:output})\n",
    "        # print(loss)\n",
    "        if epoch%display_step ==0:\n",
    "            losses = sess.run(cost, feed_dict={x:x_train, y:output})\n",
    "            print(\"第%d训练的loss：%.2f, w:%.2f, b:%.2f\" % (epoch, losses, sess.run(w_pre), sess.run(b_pre)))\n",
    "    print(\"train finished\")\n",
    "    print(\"final loss:%.2f w_pre:%.2f b_pre:%2.f\" %(sess.run(cost, feed_dict={x:x_train, y:output}),sess.run(w_pre), sess.run(b_pre)))\n",
    "    print(\"true w:%d, true b:%d\" %(true_w, true_b))\n",
    "    plt.plot(x_train, output, 'ro', label='Original data')\n",
    "    plt.plot(x_train, sess.run(w_pre) * x_train + sess.run(b_pre), label='Fitted line')\n",
    "    plt.legend()\n",
    "    plt.show()"
   ],
   "metadata": {
    "collapsed": false,
    "pycharm": {
     "name": "#%%\n",
     "is_executing": false
    }
   }
  },
  {
   "cell_type": "code",
   "execution_count": 61,
   "outputs": [],
   "source": [],
   "metadata": {
    "collapsed": false,
    "pycharm": {
     "name": "#%%\n",
     "is_executing": false
    }
   }
  }
 ],
 "metadata": {
  "language_info": {
   "codemirror_mode": {
    "name": "ipython",
    "version": 2
   },
   "file_extension": ".py",
   "mimetype": "text/x-python",
   "name": "python",
   "nbconvert_exporter": "python",
   "pygments_lexer": "ipython2",
   "version": "2.7.6"
  },
  "kernelspec": {
   "name": "python3",
   "language": "python",
   "display_name": "Python 3"
  },
  "pycharm": {
   "stem_cell": {
    "cell_type": "raw",
    "source": [],
    "metadata": {
     "collapsed": false
    }
   }
  }
 },
 "nbformat": 4,
 "nbformat_minor": 0
}